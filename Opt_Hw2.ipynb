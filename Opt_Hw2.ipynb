{
  "nbformat": 4,
  "nbformat_minor": 0,
  "metadata": {
    "colab": {
      "provenance": []
    },
    "kernelspec": {
      "name": "python3",
      "display_name": "Python 3"
    },
    "language_info": {
      "name": "python"
    }
  },
  "cells": [
    {
      "cell_type": "code",
      "source": [
        "!pip install sympy"
      ],
      "metadata": {
        "colab": {
          "base_uri": "https://localhost:8080/"
        },
        "id": "bGIFQwCyUqw2",
        "outputId": "5ac97812-cdde-4103-9572-7e046882e0d3"
      },
      "execution_count": null,
      "outputs": [
        {
          "output_type": "stream",
          "name": "stdout",
          "text": [
            "Requirement already satisfied: sympy in /usr/local/lib/python3.10/dist-packages (1.12)\n",
            "Requirement already satisfied: mpmath>=0.19 in /usr/local/lib/python3.10/dist-packages (from sympy) (1.3.0)\n"
          ]
        }
      ]
    },
    {
      "cell_type": "code",
      "execution_count": null,
      "metadata": {
        "id": "BQuwqYZ8UiQ7"
      },
      "outputs": [],
      "source": [
        "import sympy as sp\n",
        "import random\n",
        "import math"
      ]
    },
    {
      "cell_type": "markdown",
      "source": [
        "#Secant Method"
      ],
      "metadata": {
        "id": "p_I1erCIAaGB"
      }
    },
    {
      "cell_type": "code",
      "source": [
        "def secant(function,x,max_iter=600,epsilon=1e-6):\n",
        "    f_prime = sp.diff(function,x)\n",
        "    x0 = random.uniform(-100, 100)\n",
        "    x1 = x0 + random.random()*10\n",
        "    for i in range(max_iter):\n",
        "        f_p_x0 = f_prime.subs(x,x0)\n",
        "        f_p_x1 = f_prime.subs(x,x1)\n",
        "        temp = x1\n",
        "\n",
        "        x1 = x1 - (f_p_x1* (x1-x0)) / (f_p_x1-f_p_x0)\n",
        "        x0 = temp\n",
        "        if abs(x0-x1) < epsilon:\n",
        "            break\n",
        "\n",
        "    print(f'secant, number of iterations: {i}')\n",
        "    print(f\"f(x) = {f_prime.subs(x,x1)} at x:{x1}\")\n"
      ],
      "metadata": {
        "id": "3Dsu9VnuOTwx"
      },
      "execution_count": null,
      "outputs": []
    },
    {
      "cell_type": "markdown",
      "source": [
        "# Newton Method"
      ],
      "metadata": {
        "id": "jtkTg4TTAd-F"
      }
    },
    {
      "cell_type": "code",
      "source": [
        "def newton(function,x,max_iter=600,epsilon=1e-6):\n",
        "    f_prime = sp.diff(function,x)\n",
        "    f_prime2 = sp.diff(f_prime,x)\n",
        "    x0 = random.uniform(-100, 100)\n",
        "    for i in range(max_iter):\n",
        "        f_p_x0 = f_prime.subs(x,x0)\n",
        "        f_p2_x0 = f_prime2.subs(x,x0)\n",
        "        xold = x0\n",
        "        x0 = x0 - f_p_x0/f_p2_x0\n",
        "        if abs(x0-xold) < epsilon:\n",
        "            break\n",
        "\n",
        "    print(f'newton, number of iterations: {i}')\n",
        "    print(f\"f(x) = {f_prime.subs(x,x0)} at x:{x0}\")\n"
      ],
      "metadata": {
        "id": "-_MBRTzvl0XV"
      },
      "execution_count": null,
      "outputs": []
    },
    {
      "cell_type": "markdown",
      "source": [
        "#Bisection Method"
      ],
      "metadata": {
        "id": "xMc8t1ICnvxj"
      }
    },
    {
      "cell_type": "code",
      "source": [
        "def bisection(function,x,interval=[9,20],max_iter=600,epsilon=1e-6):\n",
        "    f_prime = sp.diff(function,x)\n",
        "    for i in range (max_iter):\n",
        "        f_a = f_prime.subs(x,interval[0])\n",
        "        f_b = f_prime.subs(x,interval[1])\n",
        "        mid = (interval[1]+interval[0])/2\n",
        "        f_mid = f_prime.subs(x,mid)\n",
        "        if (f_mid * f_a) > 0 :\n",
        "            margin = abs (mid - interval[0])\n",
        "            interval[0] = mid\n",
        "        elif (f_mid * f_b) > 0 :\n",
        "            margin = abs (mid - interval[1])\n",
        "            interval[1] = mid\n",
        "\n",
        "        else:\n",
        "            break\n",
        "        if (margin < epsilon):\n",
        "            iter = i\n",
        "            break\n",
        "\n",
        "\n",
        "    print(f'bisection, number of iterations: {i}')\n",
        "    print(f\"f(x) = {f_prime.subs(x,mid)} at x:{mid}\")\n",
        "\n",
        "\n"
      ],
      "metadata": {
        "id": "t8Gv6iTKnvc_"
      },
      "execution_count": null,
      "outputs": []
    },
    {
      "cell_type": "markdown",
      "source": [
        "# Demo"
      ],
      "metadata": {
        "id": "-4yePqjQYRLP"
      }
    },
    {
      "cell_type": "code",
      "source": [
        "x = sp.symbols('x')\n",
        "# function = input(\"Enter the funtion that you want to minimize: \")\n",
        "function = 'x**2 + sin(x)'\n",
        "function = sp.sympify(function)\n",
        "bisection(function,x,interval=[-4,6])\n",
        "newton(function,x)\n",
        "secant(function,x)"
      ],
      "metadata": {
        "colab": {
          "base_uri": "https://localhost:8080/"
        },
        "id": "pmwRMPwZDMVz",
        "outputId": "655c2f44-a462-454b-bf81-354518fdc013"
      },
      "execution_count": null,
      "outputs": [
        {
          "output_type": "stream",
          "name": "stdout",
          "text": [
            "bisection, number of iterations: 23\n",
            "f(x) = -9.16394886529837E-7 at x:-0.4501839876174927\n",
            "newton, number of iterations: 5\n",
            "f(x) = -3.33066907387547E-16 at x:-0.450183611294874\n",
            "secant, number of iterations: 7\n",
            "f(x) = 8.88178419700125E-16 at x:-0.450183611294873\n"
          ]
        }
      ]
    },
    {
      "cell_type": "code",
      "source": [],
      "metadata": {
        "id": "EQOfF-8qK0vz"
      },
      "execution_count": null,
      "outputs": []
    }
  ]
}